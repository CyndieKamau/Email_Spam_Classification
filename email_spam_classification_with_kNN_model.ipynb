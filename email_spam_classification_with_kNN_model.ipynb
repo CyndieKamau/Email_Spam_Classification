{
  "nbformat": 4,
  "nbformat_minor": 0,
  "metadata": {
    "colab": {
      "provenance": [],
      "authorship_tag": "ABX9TyMFGc7zGrudnJPFNoieXRvm"
    },
    "kernelspec": {
      "name": "python3",
      "display_name": "Python 3"
    },
    "language_info": {
      "name": "python"
    }
  },
  "cells": [
    {
      "cell_type": "markdown",
      "source": [
        "# **Email Spam Classification using K-Nearest Neighbours** \n",
        "\n",
        "kNN is a supervised Machine Learning technique that can handle both regression and classification.\n",
        "\n",
        "**How kNN Works**\n",
        "\n",
        "kNN algorithm borrows on actual life, where our behaviour is impacted by those surrounding us. \n",
        "\n",
        "1. When we have 1 close best friend we end up having similar interests with them (K = 1).\n",
        "\n",
        "2. When we have 5 close friends we end up picking habits from each one of them and we become an average of 5 (K = 5).\n",
        "\n",
        "kNN classifier identifies the class of a data point using the majority voting principle. If k is set to 5, the classes of 5 nearest points are examined. Prediction is done according to the predominant class. Similarly, kNN regression takes the mean value of 5 nearest locations.\n",
        "\n",
        "The distance between the data points is measured by the **Euclidean Distance** technique. "
      ],
      "metadata": {
        "id": "EQ7dp9iWe5dO"
      }
    },
    {
      "cell_type": "markdown",
      "source": [
        "# 1. Importing the required modules"
      ],
      "metadata": {
        "id": "flqa1PwNe528"
      }
    },
    {
      "cell_type": "code",
      "source": [
        "#Importing the required modules\n",
        "\n",
        "# read the data\n",
        "import pandas as pd\n",
        "\n",
        "# for manual selection of train, test data:\n",
        "import numpy as np\n",
        "from scipy.stats import mode\n",
        "from sklearn.metrics import accuracy_score\n",
        "from numpy.random import randint\n",
        "\n",
        "# automatic splitting of data to train, test data:\n",
        "from sklearn.model_selection import train_test_split\n",
        "from sklearn.neighbors import KNeighborsClassifier\n",
        "\n",
        "# visualizing the data\n",
        "import matplotlib.pyplot as plt"
      ],
      "metadata": {
        "id": "5gWJBKEKe-hu"
      },
      "execution_count": 11,
      "outputs": []
    },
    {
      "cell_type": "markdown",
      "source": [
        "# 2. Generating the email spam classification dataset"
      ],
      "metadata": {
        "id": "Ut0VhxKSfIHR"
      }
    },
    {
      "cell_type": "code",
      "source": [
        "# import dataset (emails.csv) to google colab from drive.\n",
        "\n",
        "from google.colab import drive\n",
        "drive.mount(\"/content/gdrive\")"
      ],
      "metadata": {
        "colab": {
          "base_uri": "https://localhost:8080/"
        },
        "id": "1O-mx-MnfRs0",
        "outputId": "eaf5e1dc-0b0e-4fa5-c05b-051531da8c6c"
      },
      "execution_count": 3,
      "outputs": [
        {
          "output_type": "stream",
          "name": "stdout",
          "text": [
            "Mounted at /content/gdrive\n"
          ]
        }
      ]
    },
    {
      "cell_type": "code",
      "source": [
        "# To read the contents of the file\n",
        "\n",
        "emails = pd.read_csv('/content/gdrive/My Drive/emails.csv')"
      ],
      "metadata": {
        "id": "fRNSCTIJftzU"
      },
      "execution_count": 4,
      "outputs": []
    },
    {
      "cell_type": "markdown",
      "source": [
        "# 3. Creating a function to calculate the Eucledian Distance"
      ],
      "metadata": {
        "id": "BRBNz8s2gFTf"
      }
    },
    {
      "cell_type": "code",
      "source": [
        "#Euclidean Distance\n",
        "def euclidean(p1,p2):\n",
        "    dist = np.sqrt(np.sum((p1-p2)**2))\n",
        "    return dist"
      ],
      "metadata": {
        "id": "OLKHA7fkgJ7B"
      },
      "execution_count": 5,
      "outputs": []
    },
    {
      "cell_type": "markdown",
      "source": [
        "The function will calculate the distance from p1 point to p2 point"
      ],
      "metadata": {
        "id": "aeVxK0k3hBWq"
      }
    },
    {
      "cell_type": "markdown",
      "source": [
        "# 4. Creating a `predict` function; Manual Splitting of Dataset to Training, Testing Data"
      ],
      "metadata": {
        "id": "BtwTaSQphSZg"
      }
    },
    {
      "cell_type": "code",
      "source": [
        "#Function to calculate KNN\n",
        "def predict(x_train, y , x_input, k):\n",
        "    op_labels = []\n",
        "     \n",
        "    #Loop through the Datapoints to be classified\n",
        "    for item in x_input: \n",
        "         \n",
        "        #Array to store distances\n",
        "        point_dist = []\n",
        "         \n",
        "        #Loop through each training Data\n",
        "        for j in range(len(x_train)): \n",
        "            distances = euclidean(np.array(x_train[j,:]) , item) \n",
        "            #Calculating the distance\n",
        "            point_dist.append(distances)\n",
        "            \n",
        "        point_dist = np.array(point_dist) \n",
        "        \n",
        "        #Sorting the array while preserving the index\n",
        "        #Keeping the first K datapoints\n",
        "        dist = np.argsort(point_dist)[:k] \n",
        "         \n",
        "        #Labels of the K datapoints from above\n",
        "        labels = y[dist]\n",
        "         \n",
        "        #Majority voting\n",
        "        lab = mode(labels) \n",
        "        lab = lab.mode[0]\n",
        "        op_labels.append(lab)\n",
        " \n",
        "    return op_labels"
      ],
      "metadata": {
        "id": "mm_PL9ZPhYuK"
      },
      "execution_count": 6,
      "outputs": []
    },
    {
      "cell_type": "markdown",
      "source": [
        "The function saves the distance of each point of the dataset from the new data point and sorts out the data. Finally, it selects the class for the new data point with the majority class."
      ],
      "metadata": {
        "id": "gAktHZnEhn9B"
      }
    },
    {
      "cell_type": "markdown",
      "source": [
        "# 5. Test the `predict` function on emails dataset  "
      ],
      "metadata": {
        "id": "x6CYRnebhoeB"
      }
    },
    {
      "cell_type": "code",
      "source": [
        "X = emails.iloc[:, 1:-1].values\n",
        "y = emails.iloc[:, -1].values\n",
        "\n",
        "\n",
        "#Creating the training Data\n",
        "train_idx = randint(0,len(X),len(X))\n",
        "X_train = X[train_idx[:int(len(train_idx)*.7)]]\n",
        "y_train = y[train_idx[:int(len(train_idx)*.7)]]\n",
        " \n",
        "#Creating the testing Data\n",
        "X_test = X[train_idx[int(len(train_idx)*.7):]]\n",
        "y_test = y[train_idx[int(len(train_idx)*.7):]]\n",
        " \n",
        "#Applying our function \n",
        "y_pred = predict(X_train,y_train,X_test , 2)\n",
        " \n",
        "#Checking the accuracy\n",
        "accuracy_score(y_test, y_pred)"
      ],
      "metadata": {
        "colab": {
          "base_uri": "https://localhost:8080/"
        },
        "id": "MbMarNx9h0B7",
        "outputId": "186a8667-1ed8-4b0a-9114-610afda860f7"
      },
      "execution_count": 25,
      "outputs": [
        {
          "output_type": "execute_result",
          "data": {
            "text/plain": [
              "0.916881443298969"
            ]
          },
          "metadata": {},
          "execution_count": 25
        }
      ]
    },
    {
      "cell_type": "markdown",
      "source": [
        "After creating the `predict` function to find the prediction for a bunch of new data points, Let’s use our `predict` function to get the emails' dataset’s prediction, using different K values.\n",
        "\n",
        "After running the test 5 times with different K values, K value of 2 got the highest accuracy score of 0.916"
      ],
      "metadata": {
        "id": "AS1yMC03jaFG"
      }
    },
    {
      "cell_type": "markdown",
      "source": [
        "# 6. Visualizing the dataset"
      ],
      "metadata": {
        "id": "rirJkuEzj0bW"
      }
    },
    {
      "cell_type": "code",
      "source": [
        "plt.style.use('seaborn')\n",
        "plt.figure(figsize = (7,7))\n",
        "plt.scatter(X[:,0], X[:,1], c=y,s=100, edgecolors='black')\n",
        "plt.show()"
      ],
      "metadata": {
        "colab": {
          "base_uri": "https://localhost:8080/",
          "height": 428
        },
        "id": "QqhdX5BDkDB-",
        "outputId": "11f1caf4-379a-47ab-dd13-c70df0789df0"
      },
      "execution_count": 8,
      "outputs": [
        {
          "output_type": "display_data",
          "data": {
            "text/plain": [
              "<Figure size 504x504 with 1 Axes>"
            ],
            "image/png": "[encoded data removed]"
          },
          "metadata": {}
        }
      ]
    },
    {
      "cell_type": "markdown",
      "source": [
        "# 7. Splitting data to training, testing datasets using `train_test_split`"
      ],
      "metadata": {
        "id": "jl3jfQifkacN"
      }
    },
    {
      "cell_type": "code",
      "source": [
        "X_train, X_test, y_train, y_test = train_test_split(X, y, random_state = 0)"
      ],
      "metadata": {
        "id": "_1Ueyh8TkqPx"
      },
      "execution_count": 9,
      "outputs": []
    },
    {
      "cell_type": "markdown",
      "source": [
        "# 8. KNN Classifier Implementation"
      ],
      "metadata": {
        "id": "IdCalJUIk16R"
      }
    },
    {
      "cell_type": "code",
      "source": [
        "knn1 = KNeighborsClassifier(n_neighbors=1)\n",
        "knn2 = KNeighborsClassifier(n_neighbors=2)\n",
        "knn5 = KNeighborsClassifier(n_neighbors=5)\n",
        "knn7 = KNeighborsClassifier(n_neighbors=7)"
      ],
      "metadata": {
        "id": "BmlwxPL0k50v"
      },
      "execution_count": 12,
      "outputs": []
    },
    {
      "cell_type": "markdown",
      "source": [
        "We are building KNN Classifier Objects, by developing serveral Classifiers with different K values for comparison.\n",
        "\n",
        "The models are then trained using a train set. The k value is chosen using the `n_neighbors` argument."
      ],
      "metadata": {
        "id": "sCuddNoPmGUt"
      }
    },
    {
      "cell_type": "markdown",
      "source": [
        "# 9. Predictions for the KNN Classifiers"
      ],
      "metadata": {
        "id": "25_CdkEsmLzr"
      }
    },
    {
      "cell_type": "code",
      "source": [
        "# Comparison between training, test models\n",
        "\n",
        "knn1.fit(X_train, y_train)\n",
        "knn2.fit(X_train, y_train)\n",
        "knn5.fit(X_train, y_train)\n",
        "knn7.fit(X_train, y_train)\n",
        "\n",
        "y_pred_1 = knn1.predict(X_test)\n",
        "y_pred_2 = knn2.predict(X_test)\n",
        "y_pred_5 = knn5.predict(X_test)\n",
        "y_pred_7 = knn7.predict(X_test)"
      ],
      "metadata": {
        "id": "wR6PZUqymQqo"
      },
      "execution_count": 26,
      "outputs": []
    },
    {
      "cell_type": "markdown",
      "source": [
        "In the test set, we forecast the target values and compare them to the actual values."
      ],
      "metadata": {
        "id": "9tDi2sk-nAbS"
      }
    },
    {
      "cell_type": "markdown",
      "source": [
        "# 10. Generate Accuracy scores for all K values "
      ],
      "metadata": {
        "id": "QbYXU7REnJbs"
      }
    },
    {
      "cell_type": "code",
      "source": [
        "# Getting the accuracy scores\n",
        "\n",
        "print(\"Accuracy with k=1\", accuracy_score(y_test, y_pred_1)*100)\n",
        "print(\"Accuracy with k=2\", accuracy_score(y_test, y_pred_2)*100)\n",
        "print(\"Accuracy with k=5\", accuracy_score(y_test, y_pred_5)*100)\n",
        "print(\"Accuracy with k=7\", accuracy_score(y_test, y_pred_7)*100)"
      ],
      "metadata": {
        "colab": {
          "base_uri": "https://localhost:8080/"
        },
        "id": "Dlu1ewNBnQcV",
        "outputId": "23bf6ce0-ec2a-4781-8302-db80688f999b"
      },
      "execution_count": 14,
      "outputs": [
        {
          "output_type": "stream",
          "name": "stdout",
          "text": [
            "Accuracy with k=1 85.76952822892498\n",
            "Accuracy with k=2 87.23897911832947\n",
            "Accuracy with k=5 85.76952822892498\n",
            "Accuracy with k=7 85.84686774941996\n"
          ]
        }
      ]
    },
    {
      "cell_type": "markdown",
      "source": [
        "# Limitations of kNN\n",
        "\n",
        "1. Is not ideal for large- dimensional datasets\n",
        "2. Uses alot of memory and time when predicting larger datasets "
      ],
      "metadata": {
        "id": "_2M6l3jx0rJY"
      }
    }
  ]
}